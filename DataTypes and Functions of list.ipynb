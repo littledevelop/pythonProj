{
 "cells": [
  {
   "cell_type": "code",
   "execution_count": 1,
   "id": "dbcaea0d-dfc6-444c-ac96-56368253a37f",
   "metadata": {},
   "outputs": [
    {
     "data": {
      "text/plain": [
       "int"
      ]
     },
     "execution_count": 1,
     "metadata": {},
     "output_type": "execute_result"
    }
   ],
   "source": [
    "num=5\n",
    "type(num)\n"
   ]
  },
  {
   "cell_type": "code",
   "execution_count": 3,
   "id": "332c3029-e3c9-4e50-b1d2-dfc50b932252",
   "metadata": {},
   "outputs": [
    {
     "data": {
      "text/plain": [
       "float"
      ]
     },
     "execution_count": 3,
     "metadata": {},
     "output_type": "execute_result"
    }
   ],
   "source": [
    "num=5.4\n",
    "type(5.4)\n"
   ]
  },
  {
   "cell_type": "code",
   "execution_count": 5,
   "id": "4e967c22-b036-44e1-bf2e-14df40199f5f",
   "metadata": {},
   "outputs": [
    {
     "data": {
      "text/plain": [
       "complex"
      ]
     },
     "execution_count": 5,
     "metadata": {},
     "output_type": "execute_result"
    }
   ],
   "source": [
    "num=2+5j\n",
    "type(num)"
   ]
  },
  {
   "cell_type": "code",
   "execution_count": 7,
   "id": "bfd4e8bf-3e95-4eb1-ad76-583d586c03b1",
   "metadata": {},
   "outputs": [
    {
     "data": {
      "text/plain": [
       "2.0"
      ]
     },
     "execution_count": 7,
     "metadata": {},
     "output_type": "execute_result"
    }
   ],
   "source": [
    "num.real"
   ]
  },
  {
   "cell_type": "code",
   "execution_count": 9,
   "id": "22909c33-ee4a-4660-8e18-70db97ee6b65",
   "metadata": {},
   "outputs": [
    {
     "data": {
      "text/plain": [
       "5.0"
      ]
     },
     "execution_count": 9,
     "metadata": {},
     "output_type": "execute_result"
    }
   ],
   "source": [
    "num.imag\n"
   ]
  },
  {
   "cell_type": "code",
   "execution_count": null,
   "id": "e371cbd6-1c0d-44c0-922f-b588db340857",
   "metadata": {},
   "outputs": [],
   "source": []
  },
  {
   "cell_type": "code",
   "execution_count": 12,
   "id": "617612a8-9777-4238-abdc-547a79c2246c",
   "metadata": {},
   "outputs": [
    {
     "data": {
      "text/plain": [
       "float"
      ]
     },
     "execution_count": 12,
     "metadata": {},
     "output_type": "execute_result"
    }
   ],
   "source": [
    "num=-567.25\n",
    "type(num)"
   ]
  },
  {
   "cell_type": "code",
   "execution_count": 14,
   "id": "45ee2d12-8923-4bfa-8395-dcbe95a5586a",
   "metadata": {},
   "outputs": [
    {
     "data": {
      "text/plain": [
       "-567.25"
      ]
     },
     "execution_count": 14,
     "metadata": {},
     "output_type": "execute_result"
    }
   ],
   "source": [
    "num"
   ]
  },
  {
   "cell_type": "code",
   "execution_count": 16,
   "id": "7ae0d9c2-1daf-4190-b2b9-45af57b6156d",
   "metadata": {},
   "outputs": [],
   "source": [
    "num1=10\n",
    "num2=20"
   ]
  },
  {
   "cell_type": "code",
   "execution_count": 18,
   "id": "04bebae6-ffaf-4db1-b38e-ec0bc0228965",
   "metadata": {},
   "outputs": [
    {
     "name": "stdout",
     "output_type": "stream",
     "text": [
      "30\n"
     ]
    }
   ],
   "source": [
    "print(num1+num2)"
   ]
  },
  {
   "cell_type": "code",
   "execution_count": 20,
   "id": "a4443dc4-23ea-46f7-a402-0a11c7ee9156",
   "metadata": {},
   "outputs": [
    {
     "name": "stdout",
     "output_type": "stream",
     "text": [
      "0\n"
     ]
    }
   ],
   "source": [
    "print(num1//num2)"
   ]
  },
  {
   "cell_type": "code",
   "execution_count": 22,
   "id": "200659c3-cbc4-4dc5-81d3-68a381959ea0",
   "metadata": {},
   "outputs": [
    {
     "name": "stdout",
     "output_type": "stream",
     "text": [
      "0.5\n"
     ]
    }
   ],
   "source": [
    "print(num1/num2)"
   ]
  },
  {
   "cell_type": "code",
   "execution_count": 24,
   "id": "1848d6e6-0000-47fc-be73-3c399d6135b2",
   "metadata": {},
   "outputs": [
    {
     "name": "stdout",
     "output_type": "stream",
     "text": [
      "-10\n"
     ]
    }
   ],
   "source": [
    "print(num1-num2)"
   ]
  },
  {
   "cell_type": "code",
   "execution_count": 26,
   "id": "2cb172a3-d086-4d34-933c-54d1b6334ecc",
   "metadata": {},
   "outputs": [
    {
     "name": "stdout",
     "output_type": "stream",
     "text": [
      "200\n"
     ]
    }
   ],
   "source": [
    "print(num1*num2)"
   ]
  },
  {
   "cell_type": "code",
   "execution_count": 28,
   "id": "e6e286a6-ce0a-4bc3-84b2-1a5a9ee10473",
   "metadata": {},
   "outputs": [
    {
     "name": "stdout",
     "output_type": "stream",
     "text": [
      "100000000000000000000\n"
     ]
    }
   ],
   "source": [
    "print(num1**num2)"
   ]
  },
  {
   "cell_type": "markdown",
   "id": "491a2d9a-ad85-4a27-a4ac-2cda9f03a96b",
   "metadata": {},
   "source": [
    "# Conversion"
   ]
  },
  {
   "cell_type": "code",
   "execution_count": 40,
   "id": "19b18ef9-8447-4098-9dbf-afd7b9c6af67",
   "metadata": {},
   "outputs": [
    {
     "data": {
      "text/plain": [
       "str"
      ]
     },
     "execution_count": 40,
     "metadata": {},
     "output_type": "execute_result"
    }
   ],
   "source": [
    "x=\"20.05\"\n",
    "type(x)"
   ]
  },
  {
   "cell_type": "code",
   "execution_count": 42,
   "id": "9414a48a-2f28-4f38-a04d-73362867a387",
   "metadata": {},
   "outputs": [
    {
     "ename": "ValueError",
     "evalue": "invalid literal for int() with base 10: '20.05'",
     "output_type": "error",
     "traceback": [
      "\u001b[1;31m---------------------------------------------------------------------------\u001b[0m",
      "\u001b[1;31mValueError\u001b[0m                                Traceback (most recent call last)",
      "Cell \u001b[1;32mIn[42], line 1\u001b[0m\n\u001b[1;32m----> 1\u001b[0m \u001b[38;5;28mprint\u001b[39m(\u001b[38;5;28mint\u001b[39m(x))\n",
      "\u001b[1;31mValueError\u001b[0m: invalid literal for int() with base 10: '20.05'"
     ]
    }
   ],
   "source": [
    "print(int(x))"
   ]
  },
  {
   "cell_type": "code",
   "execution_count": 58,
   "id": "0d56f175-7ab5-41f5-81b2-d7c41213656f",
   "metadata": {},
   "outputs": [
    {
     "name": "stdout",
     "output_type": "stream",
     "text": [
      "192\n"
     ]
    }
   ],
   "source": [
    "x=\"192\"\n",
    "print(x)"
   ]
  },
  {
   "cell_type": "code",
   "execution_count": 60,
   "id": "f567c789-62f4-433d-b56c-dd3957e87d02",
   "metadata": {},
   "outputs": [
    {
     "data": {
      "text/plain": [
       "192"
      ]
     },
     "execution_count": 60,
     "metadata": {},
     "output_type": "execute_result"
    }
   ],
   "source": [
    "int(x)\n"
   ]
  },
  {
   "cell_type": "code",
   "execution_count": 62,
   "id": "5ccb9c7b-893f-4fe8-a55f-91848cfa5d36",
   "metadata": {},
   "outputs": [
    {
     "data": {
      "text/plain": [
       "int"
      ]
     },
     "execution_count": 62,
     "metadata": {},
     "output_type": "execute_result"
    }
   ],
   "source": [
    "x=int(x)\n",
    "type(x)"
   ]
  },
  {
   "cell_type": "code",
   "execution_count": 65,
   "id": "860f6198-8fe1-4d22-b991-43ffcb8ea5d9",
   "metadata": {},
   "outputs": [],
   "source": [
    "x=float(x)"
   ]
  },
  {
   "cell_type": "code",
   "execution_count": 67,
   "id": "a7294847-b3a4-4cbe-8947-260d4b1342a1",
   "metadata": {},
   "outputs": [
    {
     "name": "stdout",
     "output_type": "stream",
     "text": [
      "192.0\n"
     ]
    }
   ],
   "source": [
    "print(x)"
   ]
  },
  {
   "cell_type": "code",
   "execution_count": 69,
   "id": "bd368c14-7822-4389-809b-44e3188eedd1",
   "metadata": {},
   "outputs": [
    {
     "data": {
      "text/plain": [
       "float"
      ]
     },
     "execution_count": 69,
     "metadata": {},
     "output_type": "execute_result"
    }
   ],
   "source": [
    "type(x)"
   ]
  },
  {
   "cell_type": "code",
   "execution_count": 71,
   "id": "322bbdc1-d7ab-403d-8bce-26fbded6e9c0",
   "metadata": {},
   "outputs": [
    {
     "name": "stdout",
     "output_type": "stream",
     "text": [
      "(192+0j)\n"
     ]
    }
   ],
   "source": [
    "x=complex(x)\n",
    "print(x)"
   ]
  },
  {
   "cell_type": "code",
   "execution_count": 73,
   "id": "1c98988f-4d12-46cb-9d80-e1ef2f4b0f77",
   "metadata": {},
   "outputs": [
    {
     "name": "stdout",
     "output_type": "stream",
     "text": [
      "(2+4j)\n"
     ]
    }
   ],
   "source": [
    "print(complex(2,4))"
   ]
  },
  {
   "cell_type": "markdown",
   "id": "13a3f957-abcd-48b1-9300-5f8e4b3515b8",
   "metadata": {},
   "source": [
    "# functions"
   ]
  },
  {
   "cell_type": "code",
   "execution_count": 77,
   "id": "ca4111e7-66e8-4483-897e-f69feb3f23d3",
   "metadata": {},
   "outputs": [
    {
     "name": "stdout",
     "output_type": "stream",
     "text": [
      "7.5\n"
     ]
    }
   ],
   "source": [
    "x = -7.5\n",
    "print(abs(x))"
   ]
  },
  {
   "cell_type": "code",
   "execution_count": 79,
   "id": "d9a46980-70ef-4988-808b-49725a3c8032",
   "metadata": {},
   "outputs": [
    {
     "name": "stdout",
     "output_type": "stream",
     "text": [
      "22026.465794806718\n"
     ]
    }
   ],
   "source": [
    "import math\n",
    "x = 10\n",
    "print(math.exp(x))"
   ]
  },
  {
   "cell_type": "code",
   "execution_count": 81,
   "id": "66ced473-c003-40a7-b83c-227691f2b6d4",
   "metadata": {},
   "outputs": [
    {
     "name": "stdout",
     "output_type": "stream",
     "text": [
      "2.718281828459045\n"
     ]
    }
   ],
   "source": [
    "print(math.e)"
   ]
  },
  {
   "cell_type": "code",
   "execution_count": 83,
   "id": "f7a3f87f-cf5b-4b40-81a7-3c5c3aa33143",
   "metadata": {},
   "outputs": [
    {
     "name": "stdout",
     "output_type": "stream",
     "text": [
      "3.141592653589793\n"
     ]
    }
   ],
   "source": [
    "print(math.pi)"
   ]
  },
  {
   "cell_type": "code",
   "execution_count": 85,
   "id": "e4ffdfc6-47ab-4b6e-b51d-05c13bad45de",
   "metadata": {},
   "outputs": [
    {
     "name": "stdout",
     "output_type": "stream",
     "text": [
      "3.0\n"
     ]
    }
   ],
   "source": [
    "print(math.sqrt(9))"
   ]
  },
  {
   "cell_type": "code",
   "execution_count": 87,
   "id": "a21e6323-7850-410f-9136-726aa85d6939",
   "metadata": {},
   "outputs": [
    {
     "name": "stdout",
     "output_type": "stream",
     "text": [
      "2.449489742783178\n"
     ]
    }
   ],
   "source": [
    "print(math.sqrt(6))"
   ]
  },
  {
   "cell_type": "code",
   "execution_count": 89,
   "id": "52ae996d-71d3-49da-ba84-e9fabad53b1b",
   "metadata": {},
   "outputs": [
    {
     "data": {
      "text/plain": [
       "75"
      ]
     },
     "execution_count": 89,
     "metadata": {},
     "output_type": "execute_result"
    }
   ],
   "source": [
    "max(1,5,9,75)"
   ]
  },
  {
   "cell_type": "code",
   "execution_count": 91,
   "id": "1ce2a3dd-109e-4e2b-aa0e-d2326be59c84",
   "metadata": {},
   "outputs": [
    {
     "data": {
      "text/plain": [
       "0"
      ]
     },
     "execution_count": 91,
     "metadata": {},
     "output_type": "execute_result"
    }
   ],
   "source": [
    "min(1,8,0,966)"
   ]
  },
  {
   "cell_type": "markdown",
   "id": "72ee6de2-66b5-4c35-859f-8defa0c2b1e8",
   "metadata": {},
   "source": [
    "# creating list\n",
    "a list is a collection of data look like an array.it can hold values of multiple data types"
   ]
  },
  {
   "cell_type": "code",
   "execution_count": 98,
   "id": "24dd6e40-1cf2-4d75-b187-f46f7f4b6946",
   "metadata": {},
   "outputs": [],
   "source": [
    "num=[1,2,3,4]"
   ]
  },
  {
   "cell_type": "code",
   "execution_count": 100,
   "id": "a6d95345-3cf4-44c0-acf1-a5a4e304b0de",
   "metadata": {},
   "outputs": [
    {
     "name": "stdout",
     "output_type": "stream",
     "text": [
      "[1, 2, 3, 4]\n"
     ]
    }
   ],
   "source": [
    "print(num)"
   ]
  },
  {
   "cell_type": "code",
   "execution_count": 108,
   "id": "83047243-b7b2-4b68-8445-609f8e37dca5",
   "metadata": {},
   "outputs": [],
   "source": [
    "si=['hello','how','are','you','?']"
   ]
  },
  {
   "cell_type": "code",
   "execution_count": 110,
   "id": "a96bb93a-8dc0-458f-b1bd-d3b4db2087ee",
   "metadata": {},
   "outputs": [
    {
     "name": "stdout",
     "output_type": "stream",
     "text": [
      "['hello', 'how', 'are', 'you', '?']\n"
     ]
    }
   ],
   "source": [
    "print(si)"
   ]
  },
  {
   "cell_type": "code",
   "execution_count": 112,
   "id": "79d085d4-42d0-451a-83d4-eb2a089926f2",
   "metadata": {},
   "outputs": [],
   "source": [
    "letter = ['x','y','z']"
   ]
  },
  {
   "cell_type": "code",
   "execution_count": 114,
   "id": "03410f7b-1543-438d-bb21-994a9d5f48d0",
   "metadata": {},
   "outputs": [
    {
     "name": "stdout",
     "output_type": "stream",
     "text": [
      "['x', 'y', 'z']\n"
     ]
    }
   ],
   "source": [
    "print(letter)"
   ]
  },
  {
   "cell_type": "code",
   "execution_count": 118,
   "id": "881c64b6-f2e7-47d9-a460-823f4fe5a7a9",
   "metadata": {},
   "outputs": [
    {
     "name": "stdout",
     "output_type": "stream",
     "text": [
      "[2, 's', 5, 'Simplilearn', 0.25]\n"
     ]
    }
   ],
   "source": [
    "mix=[2,'s',5,'Simplilearn',0.25]\n",
    "print(mix)"
   ]
  },
  {
   "cell_type": "code",
   "execution_count": 120,
   "id": "80be2935-ca00-4493-8e54-08c4f57af97f",
   "metadata": {},
   "outputs": [
    {
     "name": "stdout",
     "output_type": "stream",
     "text": [
      "[[1, 2, 3], ['a', 'b']]\n"
     ]
    }
   ],
   "source": [
    "mat= [[1,2,3],['a','b']]\n",
    "print(mat)"
   ]
  },
  {
   "cell_type": "markdown",
   "id": "be7488db-94b0-4b79-ac8b-8cd3cc34f9df",
   "metadata": {},
   "source": [
    "# Accesing Elements in lists"
   ]
  },
  {
   "cell_type": "code",
   "execution_count": 125,
   "id": "b638b247-6dfa-4593-a4be-54e8a194faa7",
   "metadata": {},
   "outputs": [
    {
     "name": "stdout",
     "output_type": "stream",
     "text": [
      "[2, 's', 5, 'Simplilearn', 0.25]\n"
     ]
    }
   ],
   "source": [
    "print(mix)"
   ]
  },
  {
   "cell_type": "code",
   "execution_count": 127,
   "id": "5060961c-223a-439b-80f7-36f5a52f77ea",
   "metadata": {},
   "outputs": [
    {
     "name": "stdout",
     "output_type": "stream",
     "text": [
      "Simplilearn\n"
     ]
    }
   ],
   "source": [
    "print(mix[3])"
   ]
  },
  {
   "cell_type": "code",
   "execution_count": 129,
   "id": "05b52206-9bff-4b39-8647-c901c12e34f1",
   "metadata": {},
   "outputs": [
    {
     "name": "stdout",
     "output_type": "stream",
     "text": [
      "Simplilearn\n"
     ]
    }
   ],
   "source": [
    "print(mix[-2])"
   ]
  },
  {
   "cell_type": "code",
   "execution_count": 132,
   "id": "bd1d475c-8b11-4a7e-9158-39dc78f43475",
   "metadata": {},
   "outputs": [
    {
     "name": "stdout",
     "output_type": "stream",
     "text": [
      "[2, 's']\n"
     ]
    }
   ],
   "source": [
    "print(mix[:2])"
   ]
  },
  {
   "cell_type": "code",
   "execution_count": 135,
   "id": "5006ccab-b000-4476-bac2-fbb237d1bb87",
   "metadata": {},
   "outputs": [
    {
     "data": {
      "text/plain": [
       "[2, 's', 5]"
      ]
     },
     "execution_count": 135,
     "metadata": {},
     "output_type": "execute_result"
    }
   ],
   "source": [
    "mix[:3]"
   ]
  },
  {
   "cell_type": "code",
   "execution_count": 137,
   "id": "5c150d4c-0155-4984-a110-14f1560d28f7",
   "metadata": {},
   "outputs": [
    {
     "data": {
      "text/plain": [
       "['Simplilearn', 0.25]"
      ]
     },
     "execution_count": 137,
     "metadata": {},
     "output_type": "execute_result"
    }
   ],
   "source": [
    "mix[3:]"
   ]
  },
  {
   "cell_type": "code",
   "execution_count": 156,
   "id": "70f928ee-df63-4401-89a5-47ab64d7f77e",
   "metadata": {},
   "outputs": [
    {
     "data": {
      "text/plain": [
       "[5, 'Simplilearn']"
      ]
     },
     "execution_count": 156,
     "metadata": {},
     "output_type": "execute_result"
    }
   ],
   "source": [
    "mix[2:4]"
   ]
  },
  {
   "cell_type": "code",
   "execution_count": 141,
   "id": "4dabdb07-5a01-4b5a-b784-746d524ec1b0",
   "metadata": {},
   "outputs": [
    {
     "data": {
      "text/plain": [
       "[2, 5, 0.25]"
      ]
     },
     "execution_count": 141,
     "metadata": {},
     "output_type": "execute_result"
    }
   ],
   "source": [
    "mix[::2]"
   ]
  },
  {
   "cell_type": "code",
   "execution_count": 143,
   "id": "ce8ec256-219b-4ea1-853f-32c0e12bcf29",
   "metadata": {},
   "outputs": [
    {
     "data": {
      "text/plain": [
       "[0.25, 'Simplilearn', 5, 's', 2]"
      ]
     },
     "execution_count": 143,
     "metadata": {},
     "output_type": "execute_result"
    }
   ],
   "source": [
    "mix[::-1]"
   ]
  },
  {
   "cell_type": "code",
   "execution_count": 147,
   "id": "2bfe58fc-2157-4d8e-a718-0a7d2d08e9d5",
   "metadata": {},
   "outputs": [
    {
     "data": {
      "text/plain": [
       "[5]"
      ]
     },
     "execution_count": 147,
     "metadata": {},
     "output_type": "execute_result"
    }
   ],
   "source": [
    "mix[2::5]"
   ]
  },
  {
   "cell_type": "code",
   "execution_count": 187,
   "id": "9424ba0c-69c6-41b7-8b3a-87c2ff66620f",
   "metadata": {},
   "outputs": [
    {
     "data": {
      "text/plain": [
       "['hello', 'how', 'are', 'you', '?', ['x', 'y', 'z'], 'JI', 'JI']"
      ]
     },
     "execution_count": 187,
     "metadata": {},
     "output_type": "execute_result"
    }
   ],
   "source": [
    "num"
   ]
  },
  {
   "cell_type": "markdown",
   "id": "24810996-6c29-4dcb-907b-087d32ee6160",
   "metadata": {},
   "source": [
    "# Operation on list"
   ]
  },
  {
   "cell_type": "code",
   "execution_count": 150,
   "id": "d6e125ac-2ced-441d-aec2-140169ed652f",
   "metadata": {},
   "outputs": [
    {
     "name": "stdout",
     "output_type": "stream",
     "text": [
      "[0, 0, 0, 0, 0, 0, 0, 0, 0, 0, 0, 0, 0, 0, 0, 0, 0, 0, 0, 0, 0, 0, 0, 0, 0, 0, 0, 0, 0, 0, 0, 0, 0, 0, 0, 0, 0, 0, 0, 0, 0, 0, 0, 0, 0, 0, 0, 0, 0, 0, 0, 0, 0, 0, 0, 0, 0, 0, 0, 0, 0, 0, 0, 0, 0, 0, 0, 0, 0, 0, 0, 0, 0, 0, 0, 0, 0, 0, 0, 0, 0, 0, 0, 0, 0, 0, 0, 0, 0, 0, 0, 0, 0, 0, 0, 0, 0, 0, 0, 0]\n"
     ]
    }
   ],
   "source": [
    "x=[0]*100\n",
    "print(x)"
   ]
  },
  {
   "cell_type": "code",
   "execution_count": 152,
   "id": "da960a7c-d5cc-4a19-aa28-480f751e87e3",
   "metadata": {},
   "outputs": [
    {
     "name": "stdout",
     "output_type": "stream",
     "text": [
      "['x', 'y', 'z']\n"
     ]
    }
   ],
   "source": [
    "print(letter)"
   ]
  },
  {
   "cell_type": "code",
   "execution_count": 158,
   "id": "f95d4f5e-fb8a-4cf9-a567-7520db85e7e3",
   "metadata": {},
   "outputs": [
    {
     "name": "stdout",
     "output_type": "stream",
     "text": [
      "['hello', 'how', 'are', 'you', '?']\n"
     ]
    }
   ],
   "source": [
    "print(si)"
   ]
  },
  {
   "cell_type": "code",
   "execution_count": 160,
   "id": "e6d85ffe-bbbd-4753-82a8-2d135eb61bff",
   "metadata": {},
   "outputs": [
    {
     "name": "stdout",
     "output_type": "stream",
     "text": [
      "['x', 'y', 'z', 'hello', 'how', 'are', 'you', '?']\n"
     ]
    }
   ],
   "source": [
    "conc = letter + si\n",
    "print(conc)"
   ]
  },
  {
   "cell_type": "code",
   "execution_count": 164,
   "id": "c54d9442-ce24-4fc9-ae01-0a6ce71460bb",
   "metadata": {},
   "outputs": [
    {
     "name": "stdout",
     "output_type": "stream",
     "text": [
      "['h', 'e', 'y', ' ', 't', 'h', 'e', 'r', 'e']\n"
     ]
    }
   ],
   "source": [
    "var=list(\"hey there\")\n",
    "print(var)"
   ]
  },
  {
   "cell_type": "code",
   "execution_count": 166,
   "id": "b4c3218b-1711-4896-86ac-0735af140d6b",
   "metadata": {},
   "outputs": [
    {
     "name": "stdout",
     "output_type": "stream",
     "text": [
      "['hello', 'how', 'are', 'you', '?']\n"
     ]
    }
   ],
   "source": [
    "print(num)"
   ]
  },
  {
   "cell_type": "code",
   "execution_count": 168,
   "id": "3b694690-5e20-4794-a834-7dd5de6cf638",
   "metadata": {},
   "outputs": [
    {
     "name": "stdout",
     "output_type": "stream",
     "text": [
      "hello\n"
     ]
    }
   ],
   "source": [
    "one, *other=num\n",
    "print(one)"
   ]
  },
  {
   "cell_type": "code",
   "execution_count": 170,
   "id": "25207923-a5eb-438f-8d9f-ba8e5b31a57d",
   "metadata": {},
   "outputs": [
    {
     "name": "stdout",
     "output_type": "stream",
     "text": [
      "['how', 'are', 'you', '?']\n"
     ]
    }
   ],
   "source": [
    "print(other)\n"
   ]
  },
  {
   "cell_type": "markdown",
   "id": "afb7ac70-2b77-4781-aa48-7d104c68c394",
   "metadata": {},
   "source": [
    "# Methods in lists"
   ]
  },
  {
   "cell_type": "code",
   "execution_count": 183,
   "id": "bcd67d94-58b1-43b4-9844-164060f74c2e",
   "metadata": {},
   "outputs": [
    {
     "name": "stdout",
     "output_type": "stream",
     "text": [
      "['hello', 'how', 'are', 'you', '?', ['x', 'y', 'z'], 'JI', 'JI']\n"
     ]
    }
   ],
   "source": [
    "print(num)"
   ]
  },
  {
   "cell_type": "code",
   "execution_count": 179,
   "id": "e470ff19-573c-4598-9c20-639adc1698dc",
   "metadata": {},
   "outputs": [
    {
     "name": "stdout",
     "output_type": "stream",
     "text": [
      "['hello', 'how', 'are', 'you', '?', ['x', 'y', 'z'], 'JI', 'JI']\n"
     ]
    }
   ],
   "source": [
    "num.append('JI')\n",
    "print(num)"
   ]
  },
  {
   "cell_type": "code",
   "execution_count": 175,
   "id": "4ffcb7d0-37c0-464a-af83-85399f43d588",
   "metadata": {},
   "outputs": [
    {
     "name": "stdout",
     "output_type": "stream",
     "text": [
      "['hello', 'how', 'are', 'you', '?', ['x', 'y', 'z']]\n"
     ]
    }
   ],
   "source": [
    "num.append(letter)\n",
    "print(num)"
   ]
  },
  {
   "cell_type": "code",
   "execution_count": 185,
   "id": "0f9edf90-f2b4-436b-ac7f-7138e65bd0ea",
   "metadata": {},
   "outputs": [
    {
     "name": "stdout",
     "output_type": "stream",
     "text": [
      "['hello', 'how', 'are', 'you', '?', ['x', 'y', 'z'], 'JI', 'JI']\n"
     ]
    }
   ],
   "source": [
    "print(num)"
   ]
  },
  {
   "cell_type": "code",
   "execution_count": 189,
   "id": "c039ed23-580a-47a2-b382-db3e6b6fb1b5",
   "metadata": {},
   "outputs": [],
   "source": [
    "num=[1,2,3,4]"
   ]
  },
  {
   "cell_type": "code",
   "execution_count": 207,
   "id": "de01db27-4dee-4fbd-b94d-fa893fd30c2d",
   "metadata": {},
   "outputs": [
    {
     "name": "stdout",
     "output_type": "stream",
     "text": [
      "[1, 2, 3, 4, 'hii']\n"
     ]
    }
   ],
   "source": [
    "print(num)"
   ]
  },
  {
   "cell_type": "code",
   "execution_count": 213,
   "id": "d92f3ef1-f31e-41d7-a675-41637df4290d",
   "metadata": {},
   "outputs": [],
   "source": [
    "num.insert(5,\"simplilearn\")"
   ]
  },
  {
   "cell_type": "code",
   "execution_count": 215,
   "id": "9cc38bc3-4e04-43ab-b171-0fedfb0f0053",
   "metadata": {},
   "outputs": [
    {
     "name": "stdout",
     "output_type": "stream",
     "text": [
      "[1, 2, 3, 4, 'hii', 'simplilearn']\n"
     ]
    }
   ],
   "source": [
    "print(num)"
   ]
  },
  {
   "cell_type": "code",
   "execution_count": 217,
   "id": "297bd536-6122-46fd-bc4e-a32bc680707a",
   "metadata": {},
   "outputs": [],
   "source": [
    "num.remove(num[4])"
   ]
  },
  {
   "cell_type": "code",
   "execution_count": 219,
   "id": "cddc1631-0031-4834-8ebc-88bfb8cb4292",
   "metadata": {},
   "outputs": [
    {
     "data": {
      "text/plain": [
       "[1, 2, 3, 4, 'simplilearn']"
      ]
     },
     "execution_count": 219,
     "metadata": {},
     "output_type": "execute_result"
    }
   ],
   "source": [
    "num"
   ]
  },
  {
   "cell_type": "code",
   "execution_count": 221,
   "id": "34396fc5-b6db-40fa-9922-023e3f412198",
   "metadata": {},
   "outputs": [],
   "source": [
    "num.remove(2)"
   ]
  },
  {
   "cell_type": "code",
   "execution_count": 223,
   "id": "e4493620-4bff-40d5-b908-5133148f28c3",
   "metadata": {},
   "outputs": [
    {
     "data": {
      "text/plain": [
       "[1, 3, 4, 'simplilearn']"
      ]
     },
     "execution_count": 223,
     "metadata": {},
     "output_type": "execute_result"
    }
   ],
   "source": [
    "num"
   ]
  },
  {
   "cell_type": "code",
   "execution_count": 225,
   "id": "eb9e9341-2bde-40ec-b227-62a6d4fad7bd",
   "metadata": {},
   "outputs": [],
   "source": [
    "stg=['b','d','g','h','r']\n",
    "stg.sort()"
   ]
  },
  {
   "cell_type": "code",
   "execution_count": 227,
   "id": "e0f1b193-f75d-4cc0-899e-fc8611388210",
   "metadata": {},
   "outputs": [
    {
     "name": "stdout",
     "output_type": "stream",
     "text": [
      "['b', 'd', 'g', 'h', 'r']\n"
     ]
    }
   ],
   "source": [
    "print(stg)"
   ]
  },
  {
   "cell_type": "markdown",
   "id": "70c1c4bd-5a20-4032-bdb0-449d2d076f52",
   "metadata": {},
   "source": [
    "# Built in Function with list"
   ]
  },
  {
   "cell_type": "code",
   "execution_count": null,
   "id": "266043e0-8f3c-467f-9cea-cf7315698e34",
   "metadata": {},
   "outputs": [],
   "source": []
  }
 ],
 "metadata": {
  "kernelspec": {
   "display_name": "Python [conda env:base] *",
   "language": "python",
   "name": "conda-base-py"
  },
  "language_info": {
   "codemirror_mode": {
    "name": "ipython",
    "version": 3
   },
   "file_extension": ".py",
   "mimetype": "text/x-python",
   "name": "python",
   "nbconvert_exporter": "python",
   "pygments_lexer": "ipython3",
   "version": "3.12.7"
  }
 },
 "nbformat": 4,
 "nbformat_minor": 5
}
